{
 "cells": [
  {
   "cell_type": "code",
   "execution_count": 1,
   "metadata": {},
   "outputs": [
    {
     "name": "stderr",
     "output_type": "stream",
     "text": [
      "Using TensorFlow backend.\n"
     ]
    }
   ],
   "source": [
    "import numpy as np\n",
    "import tensorflow as tf\n",
    "import matplotlib.pyplot as plt\n",
    "%matplotlib inline\n",
    "\n",
    "from preprocessed_mnist import load_dataset"
   ]
  },
  {
   "cell_type": "code",
   "execution_count": 2,
   "metadata": {},
   "outputs": [
    {
     "name": "stdout",
     "output_type": "stream",
     "text": [
      "Downloading data from https://s3.amazonaws.com/img-datasets/mnist.npz\n",
      " 9854976/11490434 [========================>.....] - ETA: 0s(50000, 28, 28) (50000,)\n"
     ]
    },
    {
     "data": {
      "image/png": "[encoded data removed]",
      "text/plain": [
       "<matplotlib.figure.Figure at 0x7f085c90b320>"
      ]
     },
     "metadata": {},
     "output_type": "display_data"
    }
   ],
   "source": [
    "#Load the datasets\n",
    "X_train, y_train, X_val, y_val, X_test, y_test = load_dataset()\n",
    "print(X_train.shape, y_train.shape)\n",
    "plt.imshow(X_train[0], cmap=\"Greys\");"
   ]
  },
  {
   "cell_type": "code",
   "execution_count": 3,
   "metadata": {},
   "outputs": [
    {
     "name": "stdout",
     "output_type": "stream",
     "text": [
      "Training features shape: (50000, 784)\n",
      "Validation features shape: (10000, 784)\n",
      "Test features shape: (10000, 784)\n"
     ]
    }
   ],
   "source": [
    "#Flatten 28x28 input images into 784 dimensional vector to be used as input to our MLP\n",
    "X_train = X_train.reshape((X_train.shape[0], -1))\n",
    "X_val = X_val.reshape((X_val.shape[0], -1))\n",
    "X_test = X_test.reshape((X_test.shape[0], -1))\n",
    "\n",
    "print(\"Training features shape: {}\".format(X_train.shape))\n",
    "print(\"Validation features shape: {}\".format(X_val.shape))\n",
    "print(\"Test features shape: {}\".format(X_test.shape))"
   ]
  },
  {
   "cell_type": "markdown",
   "metadata": {},
   "source": [
    "### We will build a feed forward  Neural network with a single hidden layer consisting of 256 units. The input layer consists of 784 units i.e. flatten 28x28 image and an output layer with 10 units for 10 digit classes."
   ]
  },
  {
   "cell_type": "code",
   "execution_count": 4,
   "metadata": {
    "collapsed": true
   },
   "outputs": [],
   "source": [
    "input_size = X_train.shape[1]\n",
    "hidden_size1 = 258\n",
    "output_size = 10"
   ]
  },
  {
   "cell_type": "code",
   "execution_count": 5,
   "metadata": {
    "collapsed": true
   },
   "outputs": [],
   "source": [
    "tf.reset_default_graph()"
   ]
  },
  {
   "cell_type": "code",
   "execution_count": 6,
   "metadata": {
    "collapsed": true
   },
   "outputs": [],
   "source": [
    "#Placeholders for input and output\n",
    "input_X = tf.placeholder('float32', shape=(None, input_size))\n",
    "y = tf.placeholder('float32', shape=(None, output_size))"
   ]
  },
  {
   "cell_type": "code",
   "execution_count": 7,
   "metadata": {
    "collapsed": true
   },
   "outputs": [],
   "source": [
    "#define weights\n",
    "W1 = tf.Variable(initial_value=tf.random_normal(shape=[input_size, hidden_size1]))\n",
    "b1 = tf.Variable(initial_value=tf.random_normal([hidden_size1]))\n",
    "W2 = tf.Variable(initial_value=tf.random_normal(shape=[hidden_size1, output_size]))\n",
    "b2 = tf.Variable(initial_value=tf.random_normal([output_size]))"
   ]
  },
  {
   "cell_type": "code",
   "execution_count": 8,
   "metadata": {
    "collapsed": true
   },
   "outputs": [],
   "source": [
    "#build graph\n",
    "Z1 = tf.matmul(input_X, W1) + b1\n",
    "A1 = tf.nn.sigmoid(Z1)\n",
    "\n",
    "Z2 = tf.matmul(A1, W2)+b2\n",
    "A2 = tf.nn.softmax(Z2)\n",
    "\n",
    "#Loss function\n",
    "cross_entrpy_loss = tf.reduce_mean(tf.nn.softmax_cross_entropy_with_logits(labels = y, logits = Z2))\n",
    "accuracy = tf.reduce_mean(tf.cast(tf.equal(tf.argmax(Z2, 1), tf.argmax(y, 1)), tf.float32))\n",
    "predict = tf.argmax(Z2, 1)\n",
    "\n",
    "#We are using Adam optimizer as I found it to converge faster than the Gradient Decent\n",
    "train_step = tf.train.AdamOptimizer(0.001).minimize(cross_entrpy_loss)"
   ]
  },
  {
   "cell_type": "code",
   "execution_count": 9,
   "metadata": {
    "collapsed": true
   },
   "outputs": [],
   "source": [
    "#Function to encode Labels into their one hot representation\n",
    "def get_one_hot(targets, nb_classes):\n",
    "    return np.eye(nb_classes)[np.array(targets).reshape(-1)]"
   ]
  },
  {
   "cell_type": "code",
   "execution_count": 10,
   "metadata": {
    "collapsed": true
   },
   "outputs": [],
   "source": [
    "#Convert Labels to one hot encoded vectors\n",
    "y_train_one_hot = get_one_hot(y_train, output_size)\n",
    "y_val_one_hot = get_one_hot(y_val, output_size)\n",
    "y_test_one_hot = get_one_hot(y_test, output_size)"
   ]
  },
  {
   "cell_type": "code",
   "execution_count": 11,
   "metadata": {},
   "outputs": [
    {
     "name": "stdout",
     "output_type": "stream",
     "text": [
      "Iteration: 0 loss: 20.92 acc: 0.07 val loss: 21.32 val acc: 0.08\n",
      "Iteration: 1000 loss: 0.43 acc: 0.84 val loss: 0.64 val acc: 0.87\n",
      "Iteration: 2000 loss: 0.24 acc: 0.94 val loss: 0.46 val acc: 0.90\n",
      "Iteration: 3000 loss: 0.13 acc: 0.96 val loss: 0.38 val acc: 0.92\n",
      "Iteration: 4000 loss: 0.14 acc: 0.96 val loss: 0.33 val acc: 0.93\n",
      "Iteration: 5000 loss: 0.10 acc: 0.98 val loss: 0.30 val acc: 0.93\n",
      "Iteration: 6000 loss: 0.11 acc: 0.97 val loss: 0.27 val acc: 0.94\n",
      "Iteration: 7000 loss: 0.05 acc: 0.99 val loss: 0.26 val acc: 0.94\n",
      "Iteration: 8000 loss: 0.03 acc: 0.99 val loss: 0.24 val acc: 0.94\n",
      "Iteration: 9000 loss: 0.02 acc: 0.99 val loss: 0.24 val acc: 0.94\n",
      "Iteration: 10000 loss: 0.03 acc: 0.99 val loss: 0.23 val acc: 0.95\n",
      "Iteration: 11000 loss: 0.01 acc: 1.00 val loss: 0.22 val acc: 0.95\n",
      "Iteration: 12000 loss: 0.01 acc: 1.00 val loss: 0.21 val acc: 0.95\n",
      "Iteration: 13000 loss: 0.01 acc: 1.00 val loss: 0.21 val acc: 0.95\n",
      "Iteration: 14000 loss: 0.01 acc: 1.00 val loss: 0.21 val acc: 0.95\n",
      "Iteration: 15000 loss: 0.00 acc: 1.00 val loss: 0.21 val acc: 0.95\n",
      "Iteration: 16000 loss: 0.00 acc: 1.00 val loss: 0.20 val acc: 0.96\n",
      "Iteration: 17000 loss: 0.00 acc: 1.00 val loss: 0.20 val acc: 0.96\n",
      "Iteration: 18000 loss: 0.00 acc: 1.00 val loss: 0.21 val acc: 0.96\n",
      "Iteration: 19000 loss: 0.00 acc: 1.00 val loss: 0.20 val acc: 0.96\n",
      "Test loss: 0.20 test acc: 0.96\n"
     ]
    },
    {
     "data": {
      "image/png": "[encoded data removed]",
      "text/plain": [
       "<matplotlib.figure.Figure at 0x7f084b5fdb38>"
      ]
     },
     "metadata": {},
     "output_type": "display_data"
    }
   ],
   "source": [
    "#Start training\n",
    "batch_size = 100\n",
    "m = X_train.shape[0] #Number of training examples\n",
    "iterations = 20000\n",
    "display_step = 1000\n",
    "losses = []\n",
    "accuracies = []\n",
    "\n",
    "val_losses = []\n",
    "val_accuracies = []\n",
    "\n",
    "with tf.Session() as sess:\n",
    "    \n",
    "    sess.run(tf.global_variables_initializer())\n",
    "    for i in range(iterations):\n",
    "        ind = np.random.choice(m, batch_size)\n",
    "        X_batch = X_train[ind]\n",
    "        y_batch = y_train_one_hot[ind]\n",
    "        if i%display_step == 0:\n",
    "            loss, acc = sess.run([cross_entrpy_loss, accuracy], {input_X:X_batch, y:y_batch})\n",
    "            val_loss, val_acc = sess.run([cross_entrpy_loss, accuracy], {input_X:X_val, y:y_val_one_hot})\n",
    "            print(\"Iteration: {} loss: {:.2f} acc: {:.2f} val loss: {:.2f} val acc: {:.2f}\".format(i, loss, acc, \n",
    "                                                                                                   val_loss, val_acc))\n",
    "            losses.append(loss)\n",
    "            accuracies.append(acc)\n",
    "            val_losses.append(val_loss)\n",
    "            val_accuracies.append(val_acc)\n",
    "        \n",
    "        sess.run(train_step, feed_dict={input_X:X_batch, y:y_batch})\n",
    "    \n",
    "    #Plot training and validation loss\n",
    "    plt.plot(losses)\n",
    "    plt.plot(val_losses)\n",
    "    plt.grid()\n",
    "    plt.xlabel(\"Iterations in {}\".format(display_step))\n",
    "    plt.ylabel(\"Loss\")\n",
    "    plt.legend(('Trainig loss', 'Validation loss'), loc='upper right')\n",
    "    \n",
    "    #Evaluation on Test set\n",
    "    test_loss, test_acc = sess.run([cross_entrpy_loss, accuracy], {input_X:X_test, y:y_test_one_hot})\n",
    "    print(\"Test loss: {:.2f} test acc: {:.2f}\".format(test_loss, test_acc))\n",
    "    \n",
    "    #predicted labels for first 4 examples from test set\n",
    "    predictions = sess.run(predict, feed_dict={input_X:X_test[:4]})"
   ]
  },
  {
   "cell_type": "markdown",
   "metadata": {
    "collapsed": true
   },
   "source": [
    "### With 20k iterations, We get test set accuracy of around 96%. Increasing the number of iterations might improve the accuracy further. Now, Let's see predicted labels and actual images for first 4 examples in the test set."
   ]
  },
  {
   "cell_type": "code",
   "execution_count": 12,
   "metadata": {},
   "outputs": [
    {
     "data": {
      "image/png": "[encoded data removed]",
      "text/plain": [
       "<matplotlib.figure.Figure at 0x7f0844633ef0>"
      ]
     },
     "metadata": {},
     "output_type": "display_data"
    }
   ],
   "source": [
    "fig, axs = plt.subplots(2, 2)\n",
    "for r in range(2):\n",
    "    for c in range(2):\n",
    "        axs[r, c].imshow(X_test[2*r+c].reshape((28, 28)), cmap='Greys')\n",
    "        axs[r, c].axis('off')\n",
    "        axs[r, c].set_title(\"Prediction: {}\".format(predictions[2*r+c]))"
   ]
  },
  {
   "cell_type": "markdown",
   "metadata": {},
   "source": [
    "### Wow. Looks good!"
   ]
  },
  {
   "cell_type": "code",
   "execution_count": null,
   "metadata": {
    "collapsed": true
   },
   "outputs": [],
   "source": []
  }
 ],
 "metadata": {
  "kernelspec": {
   "display_name": "Python 3",
   "language": "python",
   "name": "python3"
  },
  "language_info": {
   "codemirror_mode": {
    "name": "ipython",
    "version": 3
   },
   "file_extension": ".py",
   "mimetype": "text/x-python",
   "name": "python",
   "nbconvert_exporter": "python",
   "pygments_lexer": "ipython3",
   "version": "3.6.3"
  }
 },
 "nbformat": 4,
 "nbformat_minor": 2
}
